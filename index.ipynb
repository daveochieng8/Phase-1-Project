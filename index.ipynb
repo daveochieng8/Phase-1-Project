{
 "cells": [
  {
   "cell_type": "markdown",
   "metadata": {},
   "source": [
    "## Exploratory Data Analysis for Microsoft's New Movie Studio"
   ]
  },
  {
   "cell_type": "markdown",
   "metadata": {},
   "source": [
    "## Overview\n",
    "\n",
    "In this project, we will perform exploratory data analysis (EDA) to generate insights for Microsoft, \n",
    "helping them decide what type of films to create for their new movie studio. We will use various datasets \n",
    "related to movies, analyze trends, and provide actionable recommendations based on our findings.\n"
   ]
  },
  {
   "cell_type": "markdown",
   "metadata": {},
   "source": [
    "## Business Problem\n",
    "\n",
    "Microsoft sees all the big companies creating original video content and they want to get in on the fun. \n",
    "They have decided to create a new movie studio but lack knowledge about creating movies. Our task is to explore \n",
    "what types of films are currently doing the best at the box office and translate those findings into actionable insights \n",
    "for Microsoft's new movie studio."
   ]
  },
  {
   "cell_type": "markdown",
   "metadata": {},
   "source": [
    "## Objectives\n",
    "\n",
    "The objectives of this project are to:\n",
    "1. Analyze current trends in the movie industry to identify high-performing genres and film characteristics.\n",
    "2. Determine the key factors that contribute to a movie's success at the box office.\n",
    "3. Provide actionable recommendations to Microsoft on the types of films they should consider producing."
   ]
  },
  {
   "cell_type": "markdown",
   "metadata": {},
   "source": [
    "## Loading Data"
   ]
  },
  {
   "cell_type": "code",
   "execution_count": 1,
   "metadata": {},
   "outputs": [],
   "source": [
    "import pandas as pd \n",
    "import sqlite3"
   ]
  },
  {
   "cell_type": "code",
   "execution_count": 14,
   "metadata": {},
   "outputs": [],
   "source": [
    "# Load CSV and TSV files\n",
    "bom_movie_gross = pd.read_csv('data/bom.movie_gross.csv')\n",
    "rt_movie_info = pd.read_csv('data/rt.movie_info.tsv', sep='\\t')\n",
    "rt_reviews = pd.read_csv('data/rt.reviews.tsv', sep='\\t', encoding='ISO-8859-1')\n",
    "tmdb_movies = pd.read_csv('data/tmdb.movies.csv')\n",
    "tn_movie_budgets = pd.read_csv('data/tn.movie_budgets.csv')\n",
    "\n",
    "# Load SQLite database\n",
    "conn = sqlite3.connect('data/im.db')\n",
    "imdb_movie_basics = pd.read_sql_query(\"SELECT * FROM movie_basics\", conn)\n",
    "imdb_movie_ratings = pd.read_sql_query(\"SELECT * FROM movie_ratings\", conn)"
   ]
  }
 ],
 "metadata": {
  "kernelspec": {
   "display_name": "learn-env",
   "language": "python",
   "name": "python3"
  },
  "language_info": {
   "codemirror_mode": {
    "name": "ipython",
    "version": 3
   },
   "file_extension": ".py",
   "mimetype": "text/x-python",
   "name": "python",
   "nbconvert_exporter": "python",
   "pygments_lexer": "ipython3",
   "version": "3.8.5"
  }
 },
 "nbformat": 4,
 "nbformat_minor": 2
}
